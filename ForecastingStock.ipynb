{
  "nbformat": 4,
  "nbformat_minor": 0,
  "metadata": {
    "colab": {
      "provenance": [],
      "authorship_tag": "ABX9TyPmOms8GXQ++uDJ/G/IViTf",
      "include_colab_link": true
    },
    "kernelspec": {
      "name": "python3",
      "display_name": "Python 3"
    },
    "language_info": {
      "name": "python"
    }
  },
  "cells": [
    {
      "cell_type": "markdown",
      "metadata": {
        "id": "view-in-github",
        "colab_type": "text"
      },
      "source": [
        "<a href=\"https://colab.research.google.com/github/Dvagm/DataScincePortfol.io/blob/main/ForecastingStock.ipynb\" target=\"_parent\"><img src=\"https://colab.research.google.com/assets/colab-badge.svg\" alt=\"Open In Colab\"/></a>"
      ]
    },
    {
      "cell_type": "code",
      "source": [
        "!pip install bayesian-optimization\n"
      ],
      "metadata": {
        "colab": {
          "base_uri": "https://localhost:8080/"
        },
        "id": "Ki7AuI1Pge1e",
        "outputId": "b2835a47-872a-4b5e-90ed-7dc20753121b"
      },
      "execution_count": 16,
      "outputs": [
        {
          "output_type": "stream",
          "name": "stdout",
          "text": [
            "Collecting bayesian-optimization\n",
            "  Downloading bayesian_optimization-2.0.3-py3-none-any.whl.metadata (9.0 kB)\n",
            "Collecting colorama<0.5.0,>=0.4.6 (from bayesian-optimization)\n",
            "  Downloading colorama-0.4.6-py2.py3-none-any.whl.metadata (17 kB)\n",
            "Requirement already satisfied: numpy>=1.25 in /usr/local/lib/python3.11/dist-packages (from bayesian-optimization) (1.26.4)\n",
            "Requirement already satisfied: scikit-learn<2.0.0,>=1.0.0 in /usr/local/lib/python3.11/dist-packages (from bayesian-optimization) (1.6.1)\n",
            "Requirement already satisfied: scipy<2.0.0,>=1.0.0 in /usr/local/lib/python3.11/dist-packages (from bayesian-optimization) (1.14.1)\n",
            "Requirement already satisfied: joblib>=1.2.0 in /usr/local/lib/python3.11/dist-packages (from scikit-learn<2.0.0,>=1.0.0->bayesian-optimization) (1.4.2)\n",
            "Requirement already satisfied: threadpoolctl>=3.1.0 in /usr/local/lib/python3.11/dist-packages (from scikit-learn<2.0.0,>=1.0.0->bayesian-optimization) (3.5.0)\n",
            "Downloading bayesian_optimization-2.0.3-py3-none-any.whl (31 kB)\n",
            "Downloading colorama-0.4.6-py2.py3-none-any.whl (25 kB)\n",
            "Installing collected packages: colorama, bayesian-optimization\n",
            "Successfully installed bayesian-optimization-2.0.3 colorama-0.4.6\n"
          ]
        }
      ]
    },
    {
      "cell_type": "markdown",
      "source": [
        "# Dataset\n",
        "Siurce: yfinance is a Python library that allows users to access financial data from Yahoo Finance. It provides an easy-to-use interface for retrieving stock prices, historical market data, financial statements, and company information.\n",
        "\n",
        "\n",
        "\n",
        "```\n",
        "# import yfinance as yf\n",
        "```\n",
        "\n"
      ],
      "metadata": {
        "id": "2LWxCcjW9cX0"
      }
    },
    {
      "cell_type": "code",
      "source": [
        "#Library\n",
        "import numpy as np\n",
        "import pandas as pd\n",
        "import yfinance as yf\n",
        "import plotly.express as px\n",
        "import plotly.graph_objects as go\n",
        "from sklearn.preprocessing import MinMaxScaler\n",
        "from tensorflow.keras.models import Sequential\n",
        "from tensorflow.keras.layers import LSTM, Dense, Dropout\n",
        "from bayes_opt import BayesianOptimization\n",
        "from keras.callbacks import Callback\n",
        "from tqdm import tqdm\n",
        "from tensorflow.keras.layers import Input\n",
        "\n",
        "\n",
        "import torch\n",
        "from transformers import TimeSeriesTransformerForPrediction, TimeSeriesTransformerConfig, Trainer, TrainingArguments\n",
        "from torch.utils.data import Dataset, DataLoader\n"
      ],
      "metadata": {
        "id": "CALdyjsP9Lgh"
      },
      "execution_count": 47,
      "outputs": []
    },
    {
      "cell_type": "markdown",
      "source": [
        "#Dataframe\n",
        "A DataFrame is a two-dimensional, labeled data structure in pandas, similar to a table in a database, an Excel spreadsheet, or an R data frame."
      ],
      "metadata": {
        "id": "uHH6q4hL94jD"
      }
    },
    {
      "cell_type": "code",
      "source": [
        "# Ambil data saham Netflix (NFLX) dari Yahoo Finance\n",
        "ticker = \"NFLX\"\n",
        "df = yf.download(ticker, start=\"2005-01-01\", end=\"2025-01-01\")\n",
        "\n",
        "# Preprocessing data\n",
        "scaler = MinMaxScaler()\n",
        "df['Close_Scaled'] = scaler.fit_transform(df[['Close']])\n",
        "\n",
        "# Buat data untuk model\n",
        "def create_sequences(data, seq_length=50):\n",
        "    X, y = [], []\n",
        "    for i in range(len(data) - seq_length):\n",
        "        X.append(data[i:i+seq_length])\n",
        "        y.append(data[i+seq_length])\n",
        "    return np.array(X), np.array(y)\n",
        "\n",
        "seq_length = 50\n",
        "X, y = create_sequences(df['Close_Scaled'].values, seq_length)"
      ],
      "metadata": {
        "colab": {
          "base_uri": "https://localhost:8080/"
        },
        "id": "r9pWNRM09Que",
        "outputId": "73d5b0fd-5f96-4ee0-d417-ccf0fa1df187"
      },
      "execution_count": 22,
      "outputs": [
        {
          "output_type": "stream",
          "name": "stderr",
          "text": [
            "\r[*********************100%***********************]  1 of 1 completed\n"
          ]
        }
      ]
    },
    {
      "cell_type": "code",
      "source": [
        "df"
      ],
      "metadata": {
        "colab": {
          "base_uri": "https://localhost:8080/",
          "height": 486
        },
        "id": "E4vIEg9e09_f",
        "outputId": "333cd3f5-642a-455b-9fbc-4e2030e1b187"
      },
      "execution_count": 45,
      "outputs": [
        {
          "output_type": "execute_result",
          "data": {
            "text/plain": [
              "Price            Close        High         Low        Open    Volume  \\\n",
              "Ticker            NFLX        NFLX        NFLX        NFLX      NFLX   \n",
              "Date                                                                   \n",
              "2005-01-03    1.702857    1.800000    1.645714    1.800000  11334400   \n",
              "2005-01-04    1.665714    1.707143    1.607143    1.702857  17352300   \n",
              "2005-01-05    1.600000    1.677143    1.584286    1.677143  12732300   \n",
              "2005-01-06    1.578571    1.624286    1.572857    1.600000   8273300   \n",
              "2005-01-07    1.588571    1.650000    1.571429    1.587143   7490700   \n",
              "...                ...         ...         ...         ...       ...   \n",
              "2024-12-24  932.119995  935.849976  911.700012  915.000000   2320300   \n",
              "2024-12-26  924.140015  930.489990  915.299988  928.400024   2340300   \n",
              "2024-12-27  907.549988  918.130005  894.500000  916.010010   3226200   \n",
              "2024-12-30  900.429993  908.229980  889.710022  894.510010   2203000   \n",
              "2024-12-31  891.320007  902.679993  889.469971  901.799988   1875900   \n",
              "\n",
              "Price      Close_Scaled  \n",
              "Ticker                   \n",
              "Date                     \n",
              "2005-01-03     0.000441  \n",
              "2005-01-04     0.000402  \n",
              "2005-01-05     0.000331  \n",
              "2005-01-06     0.000309  \n",
              "2005-01-07     0.000319  \n",
              "...                 ...  \n",
              "2024-12-24     0.995253  \n",
              "2024-12-26     0.986720  \n",
              "2024-12-27     0.968982  \n",
              "2024-12-30     0.961369  \n",
              "2024-12-31     0.951629  \n",
              "\n",
              "[5033 rows x 6 columns]"
            ],
            "text/html": [
              "\n",
              "  <div id=\"df-7a52cbfc-0078-4c44-b3c9-4f1dfe60e40e\" class=\"colab-df-container\">\n",
              "    <div>\n",
              "<style scoped>\n",
              "    .dataframe tbody tr th:only-of-type {\n",
              "        vertical-align: middle;\n",
              "    }\n",
              "\n",
              "    .dataframe tbody tr th {\n",
              "        vertical-align: top;\n",
              "    }\n",
              "\n",
              "    .dataframe thead tr th {\n",
              "        text-align: left;\n",
              "    }\n",
              "\n",
              "    .dataframe thead tr:last-of-type th {\n",
              "        text-align: right;\n",
              "    }\n",
              "</style>\n",
              "<table border=\"1\" class=\"dataframe\">\n",
              "  <thead>\n",
              "    <tr>\n",
              "      <th>Price</th>\n",
              "      <th>Close</th>\n",
              "      <th>High</th>\n",
              "      <th>Low</th>\n",
              "      <th>Open</th>\n",
              "      <th>Volume</th>\n",
              "      <th>Close_Scaled</th>\n",
              "    </tr>\n",
              "    <tr>\n",
              "      <th>Ticker</th>\n",
              "      <th>NFLX</th>\n",
              "      <th>NFLX</th>\n",
              "      <th>NFLX</th>\n",
              "      <th>NFLX</th>\n",
              "      <th>NFLX</th>\n",
              "      <th></th>\n",
              "    </tr>\n",
              "    <tr>\n",
              "      <th>Date</th>\n",
              "      <th></th>\n",
              "      <th></th>\n",
              "      <th></th>\n",
              "      <th></th>\n",
              "      <th></th>\n",
              "      <th></th>\n",
              "    </tr>\n",
              "  </thead>\n",
              "  <tbody>\n",
              "    <tr>\n",
              "      <th>2005-01-03</th>\n",
              "      <td>1.702857</td>\n",
              "      <td>1.800000</td>\n",
              "      <td>1.645714</td>\n",
              "      <td>1.800000</td>\n",
              "      <td>11334400</td>\n",
              "      <td>0.000441</td>\n",
              "    </tr>\n",
              "    <tr>\n",
              "      <th>2005-01-04</th>\n",
              "      <td>1.665714</td>\n",
              "      <td>1.707143</td>\n",
              "      <td>1.607143</td>\n",
              "      <td>1.702857</td>\n",
              "      <td>17352300</td>\n",
              "      <td>0.000402</td>\n",
              "    </tr>\n",
              "    <tr>\n",
              "      <th>2005-01-05</th>\n",
              "      <td>1.600000</td>\n",
              "      <td>1.677143</td>\n",
              "      <td>1.584286</td>\n",
              "      <td>1.677143</td>\n",
              "      <td>12732300</td>\n",
              "      <td>0.000331</td>\n",
              "    </tr>\n",
              "    <tr>\n",
              "      <th>2005-01-06</th>\n",
              "      <td>1.578571</td>\n",
              "      <td>1.624286</td>\n",
              "      <td>1.572857</td>\n",
              "      <td>1.600000</td>\n",
              "      <td>8273300</td>\n",
              "      <td>0.000309</td>\n",
              "    </tr>\n",
              "    <tr>\n",
              "      <th>2005-01-07</th>\n",
              "      <td>1.588571</td>\n",
              "      <td>1.650000</td>\n",
              "      <td>1.571429</td>\n",
              "      <td>1.587143</td>\n",
              "      <td>7490700</td>\n",
              "      <td>0.000319</td>\n",
              "    </tr>\n",
              "    <tr>\n",
              "      <th>...</th>\n",
              "      <td>...</td>\n",
              "      <td>...</td>\n",
              "      <td>...</td>\n",
              "      <td>...</td>\n",
              "      <td>...</td>\n",
              "      <td>...</td>\n",
              "    </tr>\n",
              "    <tr>\n",
              "      <th>2024-12-24</th>\n",
              "      <td>932.119995</td>\n",
              "      <td>935.849976</td>\n",
              "      <td>911.700012</td>\n",
              "      <td>915.000000</td>\n",
              "      <td>2320300</td>\n",
              "      <td>0.995253</td>\n",
              "    </tr>\n",
              "    <tr>\n",
              "      <th>2024-12-26</th>\n",
              "      <td>924.140015</td>\n",
              "      <td>930.489990</td>\n",
              "      <td>915.299988</td>\n",
              "      <td>928.400024</td>\n",
              "      <td>2340300</td>\n",
              "      <td>0.986720</td>\n",
              "    </tr>\n",
              "    <tr>\n",
              "      <th>2024-12-27</th>\n",
              "      <td>907.549988</td>\n",
              "      <td>918.130005</td>\n",
              "      <td>894.500000</td>\n",
              "      <td>916.010010</td>\n",
              "      <td>3226200</td>\n",
              "      <td>0.968982</td>\n",
              "    </tr>\n",
              "    <tr>\n",
              "      <th>2024-12-30</th>\n",
              "      <td>900.429993</td>\n",
              "      <td>908.229980</td>\n",
              "      <td>889.710022</td>\n",
              "      <td>894.510010</td>\n",
              "      <td>2203000</td>\n",
              "      <td>0.961369</td>\n",
              "    </tr>\n",
              "    <tr>\n",
              "      <th>2024-12-31</th>\n",
              "      <td>891.320007</td>\n",
              "      <td>902.679993</td>\n",
              "      <td>889.469971</td>\n",
              "      <td>901.799988</td>\n",
              "      <td>1875900</td>\n",
              "      <td>0.951629</td>\n",
              "    </tr>\n",
              "  </tbody>\n",
              "</table>\n",
              "<p>5033 rows × 6 columns</p>\n",
              "</div>\n",
              "    <div class=\"colab-df-buttons\">\n",
              "\n",
              "  <div class=\"colab-df-container\">\n",
              "    <button class=\"colab-df-convert\" onclick=\"convertToInteractive('df-7a52cbfc-0078-4c44-b3c9-4f1dfe60e40e')\"\n",
              "            title=\"Convert this dataframe to an interactive table.\"\n",
              "            style=\"display:none;\">\n",
              "\n",
              "  <svg xmlns=\"http://www.w3.org/2000/svg\" height=\"24px\" viewBox=\"0 -960 960 960\">\n",
              "    <path d=\"M120-120v-720h720v720H120Zm60-500h600v-160H180v160Zm220 220h160v-160H400v160Zm0 220h160v-160H400v160ZM180-400h160v-160H180v160Zm440 0h160v-160H620v160ZM180-180h160v-160H180v160Zm440 0h160v-160H620v160Z\"/>\n",
              "  </svg>\n",
              "    </button>\n",
              "\n",
              "  <style>\n",
              "    .colab-df-container {\n",
              "      display:flex;\n",
              "      gap: 12px;\n",
              "    }\n",
              "\n",
              "    .colab-df-convert {\n",
              "      background-color: #E8F0FE;\n",
              "      border: none;\n",
              "      border-radius: 50%;\n",
              "      cursor: pointer;\n",
              "      display: none;\n",
              "      fill: #1967D2;\n",
              "      height: 32px;\n",
              "      padding: 0 0 0 0;\n",
              "      width: 32px;\n",
              "    }\n",
              "\n",
              "    .colab-df-convert:hover {\n",
              "      background-color: #E2EBFA;\n",
              "      box-shadow: 0px 1px 2px rgba(60, 64, 67, 0.3), 0px 1px 3px 1px rgba(60, 64, 67, 0.15);\n",
              "      fill: #174EA6;\n",
              "    }\n",
              "\n",
              "    .colab-df-buttons div {\n",
              "      margin-bottom: 4px;\n",
              "    }\n",
              "\n",
              "    [theme=dark] .colab-df-convert {\n",
              "      background-color: #3B4455;\n",
              "      fill: #D2E3FC;\n",
              "    }\n",
              "\n",
              "    [theme=dark] .colab-df-convert:hover {\n",
              "      background-color: #434B5C;\n",
              "      box-shadow: 0px 1px 3px 1px rgba(0, 0, 0, 0.15);\n",
              "      filter: drop-shadow(0px 1px 2px rgba(0, 0, 0, 0.3));\n",
              "      fill: #FFFFFF;\n",
              "    }\n",
              "  </style>\n",
              "\n",
              "    <script>\n",
              "      const buttonEl =\n",
              "        document.querySelector('#df-7a52cbfc-0078-4c44-b3c9-4f1dfe60e40e button.colab-df-convert');\n",
              "      buttonEl.style.display =\n",
              "        google.colab.kernel.accessAllowed ? 'block' : 'none';\n",
              "\n",
              "      async function convertToInteractive(key) {\n",
              "        const element = document.querySelector('#df-7a52cbfc-0078-4c44-b3c9-4f1dfe60e40e');\n",
              "        const dataTable =\n",
              "          await google.colab.kernel.invokeFunction('convertToInteractive',\n",
              "                                                    [key], {});\n",
              "        if (!dataTable) return;\n",
              "\n",
              "        const docLinkHtml = 'Like what you see? Visit the ' +\n",
              "          '<a target=\"_blank\" href=https://colab.research.google.com/notebooks/data_table.ipynb>data table notebook</a>'\n",
              "          + ' to learn more about interactive tables.';\n",
              "        element.innerHTML = '';\n",
              "        dataTable['output_type'] = 'display_data';\n",
              "        await google.colab.output.renderOutput(dataTable, element);\n",
              "        const docLink = document.createElement('div');\n",
              "        docLink.innerHTML = docLinkHtml;\n",
              "        element.appendChild(docLink);\n",
              "      }\n",
              "    </script>\n",
              "  </div>\n",
              "\n",
              "\n",
              "<div id=\"df-c0b9afda-4d62-4090-862b-2680342af456\">\n",
              "  <button class=\"colab-df-quickchart\" onclick=\"quickchart('df-c0b9afda-4d62-4090-862b-2680342af456')\"\n",
              "            title=\"Suggest charts\"\n",
              "            style=\"display:none;\">\n",
              "\n",
              "<svg xmlns=\"http://www.w3.org/2000/svg\" height=\"24px\"viewBox=\"0 0 24 24\"\n",
              "     width=\"24px\">\n",
              "    <g>\n",
              "        <path d=\"M19 3H5c-1.1 0-2 .9-2 2v14c0 1.1.9 2 2 2h14c1.1 0 2-.9 2-2V5c0-1.1-.9-2-2-2zM9 17H7v-7h2v7zm4 0h-2V7h2v10zm4 0h-2v-4h2v4z\"/>\n",
              "    </g>\n",
              "</svg>\n",
              "  </button>\n",
              "\n",
              "<style>\n",
              "  .colab-df-quickchart {\n",
              "      --bg-color: #E8F0FE;\n",
              "      --fill-color: #1967D2;\n",
              "      --hover-bg-color: #E2EBFA;\n",
              "      --hover-fill-color: #174EA6;\n",
              "      --disabled-fill-color: #AAA;\n",
              "      --disabled-bg-color: #DDD;\n",
              "  }\n",
              "\n",
              "  [theme=dark] .colab-df-quickchart {\n",
              "      --bg-color: #3B4455;\n",
              "      --fill-color: #D2E3FC;\n",
              "      --hover-bg-color: #434B5C;\n",
              "      --hover-fill-color: #FFFFFF;\n",
              "      --disabled-bg-color: #3B4455;\n",
              "      --disabled-fill-color: #666;\n",
              "  }\n",
              "\n",
              "  .colab-df-quickchart {\n",
              "    background-color: var(--bg-color);\n",
              "    border: none;\n",
              "    border-radius: 50%;\n",
              "    cursor: pointer;\n",
              "    display: none;\n",
              "    fill: var(--fill-color);\n",
              "    height: 32px;\n",
              "    padding: 0;\n",
              "    width: 32px;\n",
              "  }\n",
              "\n",
              "  .colab-df-quickchart:hover {\n",
              "    background-color: var(--hover-bg-color);\n",
              "    box-shadow: 0 1px 2px rgba(60, 64, 67, 0.3), 0 1px 3px 1px rgba(60, 64, 67, 0.15);\n",
              "    fill: var(--button-hover-fill-color);\n",
              "  }\n",
              "\n",
              "  .colab-df-quickchart-complete:disabled,\n",
              "  .colab-df-quickchart-complete:disabled:hover {\n",
              "    background-color: var(--disabled-bg-color);\n",
              "    fill: var(--disabled-fill-color);\n",
              "    box-shadow: none;\n",
              "  }\n",
              "\n",
              "  .colab-df-spinner {\n",
              "    border: 2px solid var(--fill-color);\n",
              "    border-color: transparent;\n",
              "    border-bottom-color: var(--fill-color);\n",
              "    animation:\n",
              "      spin 1s steps(1) infinite;\n",
              "  }\n",
              "\n",
              "  @keyframes spin {\n",
              "    0% {\n",
              "      border-color: transparent;\n",
              "      border-bottom-color: var(--fill-color);\n",
              "      border-left-color: var(--fill-color);\n",
              "    }\n",
              "    20% {\n",
              "      border-color: transparent;\n",
              "      border-left-color: var(--fill-color);\n",
              "      border-top-color: var(--fill-color);\n",
              "    }\n",
              "    30% {\n",
              "      border-color: transparent;\n",
              "      border-left-color: var(--fill-color);\n",
              "      border-top-color: var(--fill-color);\n",
              "      border-right-color: var(--fill-color);\n",
              "    }\n",
              "    40% {\n",
              "      border-color: transparent;\n",
              "      border-right-color: var(--fill-color);\n",
              "      border-top-color: var(--fill-color);\n",
              "    }\n",
              "    60% {\n",
              "      border-color: transparent;\n",
              "      border-right-color: var(--fill-color);\n",
              "    }\n",
              "    80% {\n",
              "      border-color: transparent;\n",
              "      border-right-color: var(--fill-color);\n",
              "      border-bottom-color: var(--fill-color);\n",
              "    }\n",
              "    90% {\n",
              "      border-color: transparent;\n",
              "      border-bottom-color: var(--fill-color);\n",
              "    }\n",
              "  }\n",
              "</style>\n",
              "\n",
              "  <script>\n",
              "    async function quickchart(key) {\n",
              "      const quickchartButtonEl =\n",
              "        document.querySelector('#' + key + ' button');\n",
              "      quickchartButtonEl.disabled = true;  // To prevent multiple clicks.\n",
              "      quickchartButtonEl.classList.add('colab-df-spinner');\n",
              "      try {\n",
              "        const charts = await google.colab.kernel.invokeFunction(\n",
              "            'suggestCharts', [key], {});\n",
              "      } catch (error) {\n",
              "        console.error('Error during call to suggestCharts:', error);\n",
              "      }\n",
              "      quickchartButtonEl.classList.remove('colab-df-spinner');\n",
              "      quickchartButtonEl.classList.add('colab-df-quickchart-complete');\n",
              "    }\n",
              "    (() => {\n",
              "      let quickchartButtonEl =\n",
              "        document.querySelector('#df-c0b9afda-4d62-4090-862b-2680342af456 button');\n",
              "      quickchartButtonEl.style.display =\n",
              "        google.colab.kernel.accessAllowed ? 'block' : 'none';\n",
              "    })();\n",
              "  </script>\n",
              "</div>\n",
              "\n",
              "  <div id=\"id_ef0b29d6-bd3f-4957-ac20-5d8b3b2d6f71\">\n",
              "    <style>\n",
              "      .colab-df-generate {\n",
              "        background-color: #E8F0FE;\n",
              "        border: none;\n",
              "        border-radius: 50%;\n",
              "        cursor: pointer;\n",
              "        display: none;\n",
              "        fill: #1967D2;\n",
              "        height: 32px;\n",
              "        padding: 0 0 0 0;\n",
              "        width: 32px;\n",
              "      }\n",
              "\n",
              "      .colab-df-generate:hover {\n",
              "        background-color: #E2EBFA;\n",
              "        box-shadow: 0px 1px 2px rgba(60, 64, 67, 0.3), 0px 1px 3px 1px rgba(60, 64, 67, 0.15);\n",
              "        fill: #174EA6;\n",
              "      }\n",
              "\n",
              "      [theme=dark] .colab-df-generate {\n",
              "        background-color: #3B4455;\n",
              "        fill: #D2E3FC;\n",
              "      }\n",
              "\n",
              "      [theme=dark] .colab-df-generate:hover {\n",
              "        background-color: #434B5C;\n",
              "        box-shadow: 0px 1px 3px 1px rgba(0, 0, 0, 0.15);\n",
              "        filter: drop-shadow(0px 1px 2px rgba(0, 0, 0, 0.3));\n",
              "        fill: #FFFFFF;\n",
              "      }\n",
              "    </style>\n",
              "    <button class=\"colab-df-generate\" onclick=\"generateWithVariable('df')\"\n",
              "            title=\"Generate code using this dataframe.\"\n",
              "            style=\"display:none;\">\n",
              "\n",
              "  <svg xmlns=\"http://www.w3.org/2000/svg\" height=\"24px\"viewBox=\"0 0 24 24\"\n",
              "       width=\"24px\">\n",
              "    <path d=\"M7,19H8.4L18.45,9,17,7.55,7,17.6ZM5,21V16.75L18.45,3.32a2,2,0,0,1,2.83,0l1.4,1.43a1.91,1.91,0,0,1,.58,1.4,1.91,1.91,0,0,1-.58,1.4L9.25,21ZM18.45,9,17,7.55Zm-12,3A5.31,5.31,0,0,0,4.9,8.1,5.31,5.31,0,0,0,1,6.5,5.31,5.31,0,0,0,4.9,4.9,5.31,5.31,0,0,0,6.5,1,5.31,5.31,0,0,0,8.1,4.9,5.31,5.31,0,0,0,12,6.5,5.46,5.46,0,0,0,6.5,12Z\"/>\n",
              "  </svg>\n",
              "    </button>\n",
              "    <script>\n",
              "      (() => {\n",
              "      const buttonEl =\n",
              "        document.querySelector('#id_ef0b29d6-bd3f-4957-ac20-5d8b3b2d6f71 button.colab-df-generate');\n",
              "      buttonEl.style.display =\n",
              "        google.colab.kernel.accessAllowed ? 'block' : 'none';\n",
              "\n",
              "      buttonEl.onclick = () => {\n",
              "        google.colab.notebook.generateWithVariable('df');\n",
              "      }\n",
              "      })();\n",
              "    </script>\n",
              "  </div>\n",
              "\n",
              "    </div>\n",
              "  </div>\n"
            ],
            "application/vnd.google.colaboratory.intrinsic+json": {
              "type": "dataframe",
              "variable_name": "df",
              "summary": "{\n  \"name\": \"df\",\n  \"rows\": 5033,\n  \"fields\": [\n    {\n      \"column\": [\n        \"Date\",\n        \"\"\n      ],\n      \"properties\": {\n        \"dtype\": \"date\",\n        \"min\": \"2005-01-03 00:00:00\",\n        \"max\": \"2024-12-31 00:00:00\",\n        \"num_unique_values\": 5033,\n        \"samples\": [\n          \"2013-10-14 00:00:00\",\n          \"2012-02-09 00:00:00\",\n          \"2017-06-07 00:00:00\"\n        ],\n        \"semantic_type\": \"\",\n        \"description\": \"\"\n      }\n    },\n    {\n      \"column\": [\n        \"Close\",\n        \"NFLX\"\n      ],\n      \"properties\": {\n        \"dtype\": \"number\",\n        \"std\": 208.87729181662758,\n        \"min\": 1.2899999618530273,\n        \"max\": 936.5599975585938,\n        \"num_unique_values\": 4693,\n        \"samples\": [\n          16.44285774230957,\n          291.57000732421875,\n          441.7099914550781\n        ],\n        \"semantic_type\": \"\",\n        \"description\": \"\"\n      }\n    },\n    {\n      \"column\": [\n        \"High\",\n        \"NFLX\"\n      ],\n      \"properties\": {\n        \"dtype\": \"number\",\n        \"std\": 211.56965957816118,\n        \"min\": 1.3171429634094238,\n        \"max\": 941.75,\n        \"num_unique_values\": 4634,\n        \"samples\": [\n          6.064286231994629,\n          33.0,\n          507.7300109863281\n        ],\n        \"semantic_type\": \"\",\n        \"description\": \"\"\n      }\n    },\n    {\n      \"column\": [\n        \"Low\",\n        \"NFLX\"\n      ],\n      \"properties\": {\n        \"dtype\": \"number\",\n        \"std\": 206.02150884357957,\n        \"min\": 1.2728569507598877,\n        \"max\": 923.0800170898438,\n        \"num_unique_values\": 4627,\n        \"samples\": [\n          293.1499938964844,\n          10.531429290771484,\n          103.87999725341797\n        ],\n        \"semantic_type\": \"\",\n        \"description\": \"\"\n      }\n    },\n    {\n      \"column\": [\n        \"Open\",\n        \"NFLX\"\n      ],\n      \"properties\": {\n        \"dtype\": \"number\",\n        \"std\": 208.8151660678981,\n        \"min\": 1.2999999523162842,\n        \"max\": 933.3499755859375,\n        \"num_unique_values\": 4612,\n        \"samples\": [\n          14.401429176330566,\n          144.0,\n          42.9571418762207\n        ],\n        \"semantic_type\": \"\",\n        \"description\": \"\"\n      }\n    },\n    {\n      \"column\": [\n        \"Volume\",\n        \"NFLX\"\n      ],\n      \"properties\": {\n        \"dtype\": \"number\",\n        \"std\": 17907571,\n        \"min\": 1144000,\n        \"max\": 315541800,\n        \"num_unique_values\": 4906,\n        \"samples\": [\n          7993300,\n          5023400,\n          9315600\n        ],\n        \"semantic_type\": \"\",\n        \"description\": \"\"\n      }\n    },\n    {\n      \"column\": [\n        \"Close_Scaled\",\n        \"\"\n      ],\n      \"properties\": {\n        \"dtype\": \"number\",\n        \"std\": 0.22333368156078603,\n        \"min\": 0.0,\n        \"max\": 0.9999999999999999,\n        \"num_unique_values\": 4693,\n        \"samples\": [\n          0.01620158651447513,\n          0.31037027607884987,\n          0.4709014430324113\n        ],\n        \"semantic_type\": \"\",\n        \"description\": \"\"\n      }\n    }\n  ]\n}"
            }
          },
          "metadata": {},
          "execution_count": 45
        }
      ]
    },
    {
      "cell_type": "markdown",
      "source": [
        "# Data Preprocessing\n",
        "Data preprocessing is the process of cleaning, transforming, and organizing raw data into a format that is suitable for analysis and machine learning models. It helps improve the accuracy, efficiency, and reliability of a model."
      ],
      "metadata": {
        "id": "tKF1TKUW-DDb"
      }
    },
    {
      "cell_type": "code",
      "source": [
        "# Split data (80% training, 20% testing)\n",
        "split = int(len(X) * 0.8)\n",
        "X_train, X_test = X[:split], X[split:]\n",
        "y_train, y_test = y[:split], y[split:]\n",
        "\n",
        "# Tambahkan dimensi untuk LSTM\n",
        "X_train = np.expand_dims(X_train, axis=-1)\n",
        "X_test = np.expand_dims(X_test, axis=-1)"
      ],
      "metadata": {
        "id": "JkaMhiS7yuRu"
      },
      "execution_count": 23,
      "outputs": []
    },
    {
      "cell_type": "code",
      "source": [
        "# Callback custom untuk progress bar\n",
        "class TQDMProgressBar(Callback):\n",
        "    def on_train_begin(self, logs=None):\n",
        "        self.epochs = self.params['epochs']\n",
        "        self.progress_bar = tqdm(total=self.epochs, desc=\"Training Progress\", unit=\"epoch\")\n",
        "\n",
        "    def on_epoch_end(self, epoch, logs=None):\n",
        "        self.progress_bar.update(1)\n",
        "        self.progress_bar.set_postfix(loss=logs.get('loss', 0))\n",
        "\n",
        "    def on_train_end(self, logs=None):\n",
        "        self.progress_bar.close()\n"
      ],
      "metadata": {
        "id": "sCzEY6l9y7_p"
      },
      "execution_count": 24,
      "outputs": []
    },
    {
      "cell_type": "markdown",
      "source": [
        "#Hypertunning\n",
        "Hyperparameter tuning (or hyperparameter optimization) is the process of finding the best set of hyperparameters to improve a machine learning model's performance. Unlike model parameters (learned from data), hyperparameters are manually set before training.\n",
        "\n"
      ],
      "metadata": {
        "id": "5hEKnRRB-Kbp"
      }
    },
    {
      "cell_type": "code",
      "source": [
        "# Fungsi untuk Bayesian Optimization\n",
        "def train_lstm(batch_size, dropout_rate, epochs, lstm_units):\n",
        "    batch_size = int(batch_size)\n",
        "    epochs = int(epochs)\n",
        "    lstm_units = int(lstm_units)\n",
        "\n",
        "    model = Sequential([\n",
        "    Input(shape=(seq_length, 1)),  # 📌 Gunakan Input layer di awal\n",
        "    LSTM(lstm_units, return_sequences=True),\n",
        "    Dropout(dropout_rate),\n",
        "    LSTM(lstm_units),\n",
        "    Dropout(dropout_rate),\n",
        "    Dense(1)\n",
        "    ])\n",
        "\n",
        "\n",
        "    model.compile(optimizer='adam', loss='mean_squared_error')\n",
        "\n",
        "    # Latih model dengan tqdm progress bar\n",
        "    progress_bar = TQDMProgressBar()\n",
        "    model.fit(X_train, y_train, epochs=epochs, batch_size=batch_size, verbose=0, callbacks=[progress_bar])\n",
        "\n",
        "    loss = model.evaluate(X_test, y_test, verbose=0)\n",
        "    return -loss  # Bayesian Optimization memaksimalkan fungsi, jadi kita negasikan loss\n",
        "\n",
        "# Hyperparameter tuning dengan Bayesian Optimization\n",
        "pbounds = {\n",
        "    'batch_size': (16, 64),\n",
        "    'dropout_rate': (0.1, 0.5),\n",
        "    'epochs': (10, 50),\n",
        "    'lstm_units': (10, 100)\n",
        "}\n",
        "\n",
        "optimizer = BayesianOptimization(f=train_lstm, pbounds=pbounds, random_state=42)\n",
        "optimizer.maximize(init_points=5, n_iter=10)\n"
      ],
      "metadata": {
        "colab": {
          "base_uri": "https://localhost:8080/"
        },
        "id": "8Adb4hsAckIf",
        "outputId": "00b52f33-fdf3-4a8d-fced-2cdb98322401"
      },
      "execution_count": 28,
      "outputs": [
        {
          "output_type": "stream",
          "name": "stdout",
          "text": [
            "|   iter    |  target   | batch_... | dropou... |  epochs   | lstm_u... |\n",
            "-------------------------------------------------------------------------\n"
          ]
        },
        {
          "output_type": "stream",
          "name": "stderr",
          "text": [
            "\n",
            "Training Progress:   0%|          | 0/39 [00:00<?, ?epoch/s]\u001b[A\n",
            "Training Progress:   3%|▎         | 1/39 [00:07<04:30,  7.12s/epoch]\u001b[A\n",
            "Training Progress:   3%|▎         | 1/39 [00:07<04:30,  7.12s/epoch, loss=0.00216]\u001b[A\n",
            "Training Progress:   5%|▌         | 2/39 [00:12<03:42,  6.02s/epoch, loss=0.00216]\u001b[A\n",
            "Training Progress:   5%|▌         | 2/39 [00:12<03:42,  6.02s/epoch, loss=0.00104]\u001b[A\n",
            "Training Progress:   8%|▊         | 3/39 [00:16<03:10,  5.31s/epoch, loss=0.00104]\u001b[A\n",
            "Training Progress:   8%|▊         | 3/39 [00:16<03:10,  5.31s/epoch, loss=0.000743]\u001b[A\n",
            "Training Progress:  10%|█         | 4/39 [00:20<02:44,  4.71s/epoch, loss=0.000743]\u001b[A\n",
            "Training Progress:  10%|█         | 4/39 [00:20<02:44,  4.71s/epoch, loss=0.000746]\u001b[A\n",
            "Training Progress:  13%|█▎        | 5/39 [00:26<02:50,  5.02s/epoch, loss=0.000746]\u001b[A\n",
            "Training Progress:  13%|█▎        | 5/39 [00:26<02:50,  5.02s/epoch, loss=0.000742]\u001b[A\n",
            "Training Progress:  15%|█▌        | 6/39 [00:29<02:32,  4.61s/epoch, loss=0.000742]\u001b[A\n",
            "Training Progress:  15%|█▌        | 6/39 [00:30<02:32,  4.61s/epoch, loss=0.000706]\u001b[A\n",
            "Training Progress:  18%|█▊        | 7/39 [00:35<02:33,  4.79s/epoch, loss=0.000706]\u001b[A\n",
            "Training Progress:  18%|█▊        | 7/39 [00:35<02:33,  4.79s/epoch, loss=0.000631]\u001b[A\n",
            "Training Progress:  21%|██        | 8/39 [00:39<02:24,  4.67s/epoch, loss=0.000631]\u001b[A\n",
            "Training Progress:  21%|██        | 8/39 [00:39<02:24,  4.67s/epoch, loss=0.000569]\u001b[A\n",
            "Training Progress:  23%|██▎       | 9/39 [00:44<02:18,  4.62s/epoch, loss=0.000569]\u001b[A\n",
            "Training Progress:  23%|██▎       | 9/39 [00:44<02:18,  4.62s/epoch, loss=0.000581]\u001b[A\n",
            "Training Progress:  26%|██▌       | 10/39 [00:49<02:25,  5.01s/epoch, loss=0.000581]\u001b[A\n",
            "Training Progress:  26%|██▌       | 10/39 [00:49<02:25,  5.01s/epoch, loss=0.000552]\u001b[A\n",
            "Training Progress:  28%|██▊       | 11/39 [00:53<02:10,  4.65s/epoch, loss=0.000552]\u001b[A\n",
            "Training Progress:  28%|██▊       | 11/39 [00:53<02:10,  4.65s/epoch, loss=0.000545]\u001b[A\n",
            "Training Progress:  31%|███       | 12/39 [00:58<02:09,  4.80s/epoch, loss=0.000545]\u001b[A\n",
            "Training Progress:  31%|███       | 12/39 [00:58<02:09,  4.80s/epoch, loss=0.000583]\u001b[A\n",
            "Training Progress:  33%|███▎      | 13/39 [01:04<02:07,  4.92s/epoch, loss=0.000583]\u001b[A\n",
            "Training Progress:  33%|███▎      | 13/39 [01:04<02:07,  4.92s/epoch, loss=0.000563]\u001b[A\n",
            "Training Progress:  36%|███▌      | 14/39 [01:09<02:03,  4.95s/epoch, loss=0.000563]\u001b[A\n",
            "Training Progress:  36%|███▌      | 14/39 [01:09<02:03,  4.95s/epoch, loss=0.000552]\u001b[A\n",
            "Training Progress:  38%|███▊      | 15/39 [01:14<02:00,  5.03s/epoch, loss=0.000552]\u001b[A\n",
            "Training Progress:  38%|███▊      | 15/39 [01:14<02:00,  5.03s/epoch, loss=0.000562]\u001b[A\n",
            "Training Progress:  41%|████      | 16/39 [01:19<01:54,  4.98s/epoch, loss=0.000562]\u001b[A\n",
            "Training Progress:  41%|████      | 16/39 [01:19<01:54,  4.98s/epoch, loss=0.000547]\u001b[A\n",
            "Training Progress:  44%|████▎     | 17/39 [01:25<02:00,  5.46s/epoch, loss=0.000547]\u001b[A\n",
            "Training Progress:  44%|████▎     | 17/39 [01:25<02:00,  5.46s/epoch, loss=0.000528]\u001b[A\n",
            "Training Progress:  46%|████▌     | 18/39 [01:35<02:20,  6.67s/epoch, loss=0.000528]\u001b[A\n",
            "Training Progress:  46%|████▌     | 18/39 [01:35<02:20,  6.67s/epoch, loss=0.000554]\u001b[A\n",
            "Training Progress:  49%|████▊     | 19/39 [01:39<02:00,  6.03s/epoch, loss=0.000554]\u001b[A\n",
            "Training Progress:  49%|████▊     | 19/39 [01:39<02:00,  6.03s/epoch, loss=0.000556]\u001b[A\n",
            "Training Progress:  51%|█████▏    | 20/39 [01:43<01:42,  5.38s/epoch, loss=0.000556]\u001b[A\n",
            "Training Progress:  51%|█████▏    | 20/39 [01:43<01:42,  5.38s/epoch, loss=0.000524]\u001b[A\n",
            "Training Progress:  54%|█████▍    | 21/39 [01:47<01:30,  5.04s/epoch, loss=0.000524]\u001b[A\n",
            "Training Progress:  54%|█████▍    | 21/39 [01:47<01:30,  5.04s/epoch, loss=0.000585]\u001b[A\n",
            "Training Progress:  56%|█████▋    | 22/39 [01:52<01:23,  4.92s/epoch, loss=0.000585]\u001b[A\n",
            "Training Progress:  56%|█████▋    | 22/39 [01:52<01:23,  4.92s/epoch, loss=0.000579]\u001b[A\n",
            "Training Progress:  59%|█████▉    | 23/39 [01:58<01:22,  5.14s/epoch, loss=0.000579]\u001b[A\n",
            "Training Progress:  59%|█████▉    | 23/39 [01:58<01:22,  5.14s/epoch, loss=0.000519]\u001b[A\n",
            "Training Progress:  62%|██████▏   | 24/39 [02:02<01:11,  4.77s/epoch, loss=0.000519]\u001b[A\n",
            "Training Progress:  62%|██████▏   | 24/39 [02:02<01:11,  4.77s/epoch, loss=0.000523]\u001b[A\n",
            "Training Progress:  64%|██████▍   | 25/39 [02:07<01:09,  4.96s/epoch, loss=0.000523]\u001b[A\n",
            "Training Progress:  64%|██████▍   | 25/39 [02:07<01:09,  4.96s/epoch, loss=0.000498]\u001b[A\n",
            "Training Progress:  67%|██████▋   | 26/39 [02:12<01:03,  4.88s/epoch, loss=0.000498]\u001b[A\n",
            "Training Progress:  67%|██████▋   | 26/39 [02:12<01:03,  4.88s/epoch, loss=0.000524]\u001b[A\n",
            "Training Progress:  69%|██████▉   | 27/39 [02:17<00:59,  4.97s/epoch, loss=0.000524]\u001b[A\n",
            "Training Progress:  69%|██████▉   | 27/39 [02:17<00:59,  4.97s/epoch, loss=0.000539]\u001b[A\n",
            "Training Progress:  72%|███████▏  | 28/39 [02:22<00:54,  4.99s/epoch, loss=0.000539]\u001b[A\n",
            "Training Progress:  72%|███████▏  | 28/39 [02:22<00:54,  4.99s/epoch, loss=0.000548]\u001b[A\n",
            "Training Progress:  74%|███████▍  | 29/39 [02:26<00:46,  4.61s/epoch, loss=0.000548]\u001b[A\n",
            "Training Progress:  74%|███████▍  | 29/39 [02:26<00:46,  4.61s/epoch, loss=0.000568]\u001b[A\n",
            "Training Progress:  77%|███████▋  | 30/39 [02:31<00:44,  4.97s/epoch, loss=0.000568]\u001b[A\n",
            "Training Progress:  77%|███████▋  | 30/39 [02:32<00:44,  4.97s/epoch, loss=0.000515]\u001b[A\n",
            "Training Progress:  79%|███████▉  | 31/39 [02:35<00:36,  4.61s/epoch, loss=0.000515]\u001b[A\n",
            "Training Progress:  79%|███████▉  | 31/39 [02:35<00:36,  4.61s/epoch, loss=0.00055] \u001b[A\n",
            "Training Progress:  82%|████████▏ | 32/39 [02:39<00:30,  4.43s/epoch, loss=0.00055]\u001b[A\n",
            "Training Progress:  82%|████████▏ | 32/39 [02:39<00:30,  4.43s/epoch, loss=0.000478]\u001b[A\n",
            "Training Progress:  85%|████████▍ | 33/39 [02:44<00:27,  4.55s/epoch, loss=0.000478]\u001b[A\n",
            "Training Progress:  85%|████████▍ | 33/39 [02:44<00:27,  4.55s/epoch, loss=0.000499]\u001b[A\n",
            "Training Progress:  87%|████████▋ | 34/39 [02:48<00:21,  4.33s/epoch, loss=0.000499]\u001b[A\n",
            "Training Progress:  87%|████████▋ | 34/39 [02:48<00:21,  4.33s/epoch, loss=0.000562]\u001b[A\n",
            "Training Progress:  90%|████████▉ | 35/39 [02:54<00:18,  4.74s/epoch, loss=0.000562]\u001b[A\n",
            "Training Progress:  90%|████████▉ | 35/39 [02:54<00:18,  4.74s/epoch, loss=0.00053] \u001b[A\n",
            "Training Progress:  92%|█████████▏| 36/39 [02:58<00:13,  4.66s/epoch, loss=0.00053]\u001b[A\n",
            "Training Progress:  92%|█████████▏| 36/39 [02:58<00:13,  4.66s/epoch, loss=0.000552]\u001b[A\n",
            "Training Progress:  95%|█████████▍| 37/39 [03:02<00:08,  4.40s/epoch, loss=0.000552]\u001b[A\n",
            "Training Progress:  95%|█████████▍| 37/39 [03:02<00:08,  4.40s/epoch, loss=0.000529]\u001b[A\n",
            "Training Progress:  97%|█████████▋| 38/39 [03:07<00:04,  4.61s/epoch, loss=0.000529]\u001b[A\n",
            "Training Progress:  97%|█████████▋| 38/39 [03:07<00:04,  4.61s/epoch, loss=0.000505]\u001b[A\n",
            "Training Progress: 100%|██████████| 39/39 [03:11<00:00,  4.35s/epoch, loss=0.000505]\u001b[A\n",
            "Training Progress: 100%|██████████| 39/39 [03:11<00:00,  4.90s/epoch, loss=0.000502]\n"
          ]
        },
        {
          "output_type": "stream",
          "name": "stdout",
          "text": [
            "| \u001b[39m1        \u001b[39m | \u001b[39m-0.000942\u001b[39m | \u001b[39m33.98    \u001b[39m | \u001b[39m0.4803   \u001b[39m | \u001b[39m39.28    \u001b[39m | \u001b[39m63.88    \u001b[39m |\n"
          ]
        },
        {
          "output_type": "stream",
          "name": "stderr",
          "text": [
            "\n",
            "Training Progress:  67%|██████▋   | 26/39 [09:13<04:36, 21.30s/epoch, loss=0.000548]\n",
            "\n",
            "Training Progress:   8%|▊         | 1/12 [00:09<01:47,  9.81s/epoch]\u001b[A\n",
            "Training Progress:   8%|▊         | 1/12 [00:09<01:47,  9.81s/epoch, loss=0.00139]\u001b[A\n",
            "Training Progress:  17%|█▋        | 2/12 [00:16<01:20,  8.01s/epoch, loss=0.00139]\u001b[A\n",
            "Training Progress:  17%|█▋        | 2/12 [00:16<01:20,  8.01s/epoch, loss=0.000267]\u001b[A\n",
            "Training Progress:  25%|██▌       | 3/12 [00:26<01:20,  8.99s/epoch, loss=0.000267]\u001b[A\n",
            "Training Progress:  25%|██▌       | 3/12 [00:26<01:20,  8.99s/epoch, loss=0.000286]\u001b[A\n",
            "Training Progress:  33%|███▎      | 4/12 [00:32<01:02,  7.87s/epoch, loss=0.000286]\u001b[A\n",
            "Training Progress:  33%|███▎      | 4/12 [00:32<01:02,  7.87s/epoch, loss=0.000243]\u001b[A\n",
            "Training Progress:  42%|████▏     | 5/12 [00:43<01:01,  8.73s/epoch, loss=0.000243]\u001b[A\n",
            "Training Progress:  42%|████▏     | 5/12 [00:43<01:01,  8.73s/epoch, loss=0.000226]\u001b[A\n",
            "Training Progress:  50%|█████     | 6/12 [00:53<00:55,  9.30s/epoch, loss=0.000226]\u001b[A\n",
            "Training Progress:  50%|█████     | 6/12 [00:53<00:55,  9.30s/epoch, loss=0.000243]\u001b[A\n",
            "Training Progress:  58%|█████▊    | 7/12 [01:04<00:48,  9.72s/epoch, loss=0.000243]\u001b[A\n",
            "Training Progress:  58%|█████▊    | 7/12 [01:04<00:48,  9.72s/epoch, loss=0.0002]  \u001b[A\n",
            "Training Progress:  67%|██████▋   | 8/12 [01:14<00:39,  9.96s/epoch, loss=0.0002]\u001b[A\n",
            "Training Progress:  67%|██████▋   | 8/12 [01:14<00:39,  9.96s/epoch, loss=0.000216]\u001b[A\n",
            "Training Progress:  75%|███████▌  | 9/12 [01:21<00:26,  8.92s/epoch, loss=0.000216]\u001b[A\n",
            "Training Progress:  75%|███████▌  | 9/12 [01:21<00:26,  8.92s/epoch, loss=0.000212]\u001b[A\n",
            "Training Progress:  83%|████████▎ | 10/12 [01:30<00:18,  9.18s/epoch, loss=0.000212]\u001b[A\n",
            "Training Progress:  83%|████████▎ | 10/12 [01:30<00:18,  9.18s/epoch, loss=0.000187]\u001b[A\n",
            "Training Progress:  92%|█████████▏| 11/12 [01:41<00:09,  9.54s/epoch, loss=0.000187]\u001b[A\n",
            "Training Progress:  92%|█████████▏| 11/12 [01:41<00:09,  9.54s/epoch, loss=0.000189]\u001b[A\n",
            "Training Progress: 100%|██████████| 12/12 [01:51<00:00,  9.79s/epoch, loss=0.000189]\u001b[A\n",
            "Training Progress: 100%|██████████| 12/12 [01:51<00:00,  9.31s/epoch, loss=0.000192]\n"
          ]
        },
        {
          "output_type": "stream",
          "name": "stdout",
          "text": [
            "| \u001b[35m2        \u001b[39m | \u001b[35m-0.000479\u001b[39m | \u001b[35m23.49    \u001b[39m | \u001b[35m0.1624   \u001b[39m | \u001b[35m12.32    \u001b[39m | \u001b[35m87.96    \u001b[39m |\n"
          ]
        },
        {
          "output_type": "stream",
          "name": "stderr",
          "text": [
            "Training Progress: 100%|██████████| 10/10 [01:27<00:00,  8.75s/epoch, loss=0.000341]\n"
          ]
        },
        {
          "output_type": "stream",
          "name": "stdout",
          "text": [
            "| \u001b[39m3        \u001b[39m | \u001b[39m-0.001118\u001b[39m | \u001b[39m44.85    \u001b[39m | \u001b[39m0.3832   \u001b[39m | \u001b[39m10.82    \u001b[39m | \u001b[39m97.29    \u001b[39m |\n"
          ]
        },
        {
          "output_type": "stream",
          "name": "stderr",
          "text": [
            "Training Progress: 100%|██████████| 17/17 [00:39<00:00,  2.34s/epoch, loss=0.000369]\n"
          ]
        },
        {
          "output_type": "stream",
          "name": "stdout",
          "text": [
            "| \u001b[39m4        \u001b[39m | \u001b[39m-0.000965\u001b[39m | \u001b[39m55.96    \u001b[39m | \u001b[39m0.1849   \u001b[39m | \u001b[39m17.27    \u001b[39m | \u001b[39m26.51    \u001b[39m |\n"
          ]
        },
        {
          "output_type": "stream",
          "name": "stderr",
          "text": [
            "Training Progress: 100%|██████████| 27/27 [01:58<00:00,  4.40s/epoch, loss=0.000456]\n"
          ]
        },
        {
          "output_type": "stream",
          "name": "stdout",
          "text": [
            "| \u001b[39m5        \u001b[39m | \u001b[39m-0.00138 \u001b[39m | \u001b[39m30.6     \u001b[39m | \u001b[39m0.3099   \u001b[39m | \u001b[39m27.28    \u001b[39m | \u001b[39m36.21    \u001b[39m |\n"
          ]
        },
        {
          "output_type": "stream",
          "name": "stderr",
          "text": [
            "Training Progress: 100%|██████████| 12/12 [01:48<00:00,  9.06s/epoch, loss=0.000328]\n"
          ]
        },
        {
          "output_type": "stream",
          "name": "stdout",
          "text": [
            "| \u001b[39m6        \u001b[39m | \u001b[39m-0.001089\u001b[39m | \u001b[39m22.97    \u001b[39m | \u001b[39m0.3185   \u001b[39m | \u001b[39m12.47    \u001b[39m | \u001b[39m89.28    \u001b[39m |\n"
          ]
        },
        {
          "output_type": "stream",
          "name": "stderr",
          "text": [
            "Training Progress: 100%|██████████| 34/34 [05:03<00:00,  8.94s/epoch, loss=0.000116]\n"
          ]
        },
        {
          "output_type": "stream",
          "name": "stdout",
          "text": [
            "| \u001b[35m7        \u001b[39m | \u001b[35m-0.000381\u001b[39m | \u001b[35m18.36    \u001b[39m | \u001b[35m0.1074   \u001b[39m | \u001b[35m34.02    \u001b[39m | \u001b[35m75.14    \u001b[39m |\n"
          ]
        },
        {
          "output_type": "stream",
          "name": "stderr",
          "text": [
            "Training Progress: 100%|██████████| 28/28 [03:54<00:00,  8.38s/epoch, loss=0.000151]\n"
          ]
        },
        {
          "output_type": "stream",
          "name": "stdout",
          "text": [
            "| \u001b[35m8        \u001b[39m | \u001b[35m-0.000277\u001b[39m | \u001b[35m16.21    \u001b[39m | \u001b[35m0.1161   \u001b[39m | \u001b[35m28.66    \u001b[39m | \u001b[35m41.69    \u001b[39m |\n"
          ]
        },
        {
          "output_type": "stream",
          "name": "stderr",
          "text": [
            "Training Progress: 100%|██████████| 49/49 [02:05<00:00,  2.55s/epoch, loss=0.000456]\n"
          ]
        },
        {
          "output_type": "stream",
          "name": "stdout",
          "text": [
            "| \u001b[39m9        \u001b[39m | \u001b[39m-0.000828\u001b[39m | \u001b[39m62.6     \u001b[39m | \u001b[39m0.3838   \u001b[39m | \u001b[39m49.76    \u001b[39m | \u001b[39m43.65    \u001b[39m |\n"
          ]
        },
        {
          "output_type": "stream",
          "name": "stderr",
          "text": [
            "Training Progress: 100%|██████████| 42/42 [02:00<00:00,  2.87s/epoch, loss=0.000341]\n"
          ]
        },
        {
          "output_type": "stream",
          "name": "stdout",
          "text": [
            "| \u001b[39m10       \u001b[39m | \u001b[39m-0.001003\u001b[39m | \u001b[39m38.63    \u001b[39m | \u001b[39m0.1642   \u001b[39m | \u001b[39m42.08    \u001b[39m | \u001b[39m18.69    \u001b[39m |\n"
          ]
        },
        {
          "output_type": "stream",
          "name": "stderr",
          "text": [
            "Training Progress: 100%|██████████| 28/28 [04:02<00:00,  8.67s/epoch, loss=0.000266]\n"
          ]
        },
        {
          "output_type": "stream",
          "name": "stdout",
          "text": [
            "| \u001b[39m11       \u001b[39m | \u001b[39m-0.000766\u001b[39m | \u001b[39m61.04    \u001b[39m | \u001b[39m0.3825   \u001b[39m | \u001b[39m28.01    \u001b[39m | \u001b[39m99.86    \u001b[39m |\n"
          ]
        },
        {
          "output_type": "stream",
          "name": "stderr",
          "text": [
            "Training Progress: 100%|██████████| 19/19 [01:08<00:00,  3.62s/epoch, loss=0.000656]\n"
          ]
        },
        {
          "output_type": "stream",
          "name": "stdout",
          "text": [
            "| \u001b[39m12       \u001b[39m | \u001b[39m-0.001108\u001b[39m | \u001b[39m53.21    \u001b[39m | \u001b[39m0.4529   \u001b[39m | \u001b[39m19.09    \u001b[39m | \u001b[39m43.52    \u001b[39m |\n"
          ]
        },
        {
          "output_type": "stream",
          "name": "stderr",
          "text": [
            "Training Progress: 100%|██████████| 19/19 [02:24<00:00,  7.62s/epoch, loss=0.000319]\n"
          ]
        },
        {
          "output_type": "stream",
          "name": "stdout",
          "text": [
            "| \u001b[39m13       \u001b[39m | \u001b[39m-0.000757\u001b[39m | \u001b[39m25.29    \u001b[39m | \u001b[39m0.3485   \u001b[39m | \u001b[39m19.93    \u001b[39m | \u001b[39m79.1     \u001b[39m |\n"
          ]
        },
        {
          "output_type": "stream",
          "name": "stderr",
          "text": [
            "Training Progress: 100%|██████████| 49/49 [07:00<00:00,  8.58s/epoch, loss=0.000271]\n"
          ]
        },
        {
          "output_type": "stream",
          "name": "stdout",
          "text": [
            "| \u001b[39m14       \u001b[39m | \u001b[39m-0.001104\u001b[39m | \u001b[39m16.3     \u001b[39m | \u001b[39m0.2837   \u001b[39m | \u001b[39m49.07    \u001b[39m | \u001b[39m57.41    \u001b[39m |\n"
          ]
        },
        {
          "output_type": "stream",
          "name": "stderr",
          "text": [
            "Training Progress: 100%|██████████| 22/22 [00:49<00:00,  2.23s/epoch, loss=0.0011]\n"
          ]
        },
        {
          "output_type": "stream",
          "name": "stdout",
          "text": [
            "| \u001b[39m15       \u001b[39m | \u001b[39m-0.004254\u001b[39m | \u001b[39m51.64    \u001b[39m | \u001b[39m0.31     \u001b[39m | \u001b[39m22.01    \u001b[39m | \u001b[39m11.77    \u001b[39m |\n",
            "=========================================================================\n"
          ]
        }
      ]
    },
    {
      "cell_type": "code",
      "source": [
        "# Dapatkan hyperparameter terbaik\n",
        "best_params = optimizer.max['params']\n",
        "best_params['epochs'] = int(best_params['epochs'])\n",
        "best_params['batch_size'] = int(best_params['batch_size'])\n",
        "best_params['lstm_units'] = int(best_params['lstm_units'])\n"
      ],
      "metadata": {
        "id": "OjZ32rdRy73K"
      },
      "execution_count": 29,
      "outputs": []
    },
    {
      "cell_type": "markdown",
      "source": [
        "#Use model"
      ],
      "metadata": {
        "id": "3x3HSz6e-bQp"
      }
    },
    {
      "cell_type": "code",
      "source": [
        "# Bangun model akhir dengan hyperparameter terbaik\n",
        "model = Sequential([\n",
        "    LSTM(best_params['lstm_units'], return_sequences=True, input_shape=(seq_length, 1)),\n",
        "    Dropout(best_params['dropout_rate']),\n",
        "    LSTM(best_params['lstm_units']),\n",
        "    Dropout(best_params['dropout_rate']),\n",
        "    Dense(1)\n",
        "])\n",
        "\n",
        "model.compile(optimizer='adam', loss='mean_squared_error')"
      ],
      "metadata": {
        "colab": {
          "base_uri": "https://localhost:8080/"
        },
        "id": "J7seLAdQwiat",
        "outputId": "894bb49d-256a-4ff1-81ae-5944f4054cb4"
      },
      "execution_count": 30,
      "outputs": [
        {
          "output_type": "stream",
          "name": "stderr",
          "text": [
            "/usr/local/lib/python3.11/dist-packages/keras/src/layers/rnn/rnn.py:200: UserWarning: Do not pass an `input_shape`/`input_dim` argument to a layer. When using Sequential models, prefer using an `Input(shape)` object as the first layer in the model instead.\n",
            "  super().__init__(**kwargs)\n"
          ]
        }
      ]
    },
    {
      "cell_type": "code",
      "source": [
        "\n",
        "# Latih model akhir\n",
        "progress_bar = TQDMProgressBar()\n",
        "history = model.fit(\n",
        "    X_train, y_train,\n",
        "    epochs=best_params['epochs'],\n",
        "    batch_size=best_params['batch_size'],\n",
        "    validation_data=(X_test, y_test),\n",
        "    callbacks=[progress_bar],\n",
        "    verbose=0\n",
        ")\n",
        "\n",
        "# Prediksi\n",
        "predictions = model.predict(X_test)\n",
        "predictions = scaler.inverse_transform(predictions)"
      ],
      "metadata": {
        "colab": {
          "base_uri": "https://localhost:8080/"
        },
        "id": "21RGdO7v8Gja",
        "outputId": "0999f73c-6a59-439e-f127-7330eb6dfd4b"
      },
      "execution_count": 31,
      "outputs": [
        {
          "output_type": "stream",
          "name": "stderr",
          "text": [
            "Training Progress: 100%|██████████| 28/28 [03:57<00:00,  8.48s/epoch, loss=0.00017]\n"
          ]
        },
        {
          "output_type": "stream",
          "name": "stdout",
          "text": [
            "\u001b[1m32/32\u001b[0m \u001b[32m━━━━━━━━━━━━━━━━━━━━\u001b[0m\u001b[37m\u001b[0m \u001b[1m1s\u001b[0m 16ms/step\n"
          ]
        }
      ]
    },
    {
      "cell_type": "code",
      "source": [
        "# Inisialisasi array input dari data terakhir yang tersedia\n",
        "last_sequence = df['Close_Scaled'].values[-seq_length:].reshape(1, seq_length, 1)\n",
        "\n",
        "# Prediksi untuk 7 hari ke depan\n",
        "future_predictions = []\n",
        "\n",
        "for _ in range(7):\n",
        "    next_prediction = model.predict(last_sequence, verbose=0)[0, 0]  # Ambil nilai prediksi\n",
        "    future_predictions.append(next_prediction)\n",
        "\n",
        "    # Perbarui urutan input dengan menambahkan prediksi baru dan menggeser data lama\n",
        "    last_sequence = np.concatenate((last_sequence[:, 1:, :], np.array([[[next_prediction]]])), axis=1)\n",
        "\n",
        "# Konversi hasil prediksi ke skala asli\n",
        "future_predictions = scaler.inverse_transform(np.array(future_predictions).reshape(-1, 1))\n",
        "\n",
        "# Buat DataFrame untuk hasil prediksi\n",
        "future_dates = pd.date_range(start=df.index[-1] + pd.Timedelta(days=1), periods=7)\n",
        "df_future = pd.DataFrame({'Date': future_dates, 'Predicted_Close': future_predictions.flatten()})\n",
        "\n",
        "df_future"
      ],
      "metadata": {
        "colab": {
          "base_uri": "https://localhost:8080/",
          "height": 269
        },
        "id": "xr54U2cZ9X30",
        "outputId": "54fc1758-4dc3-484e-b88e-f3d526453b07"
      },
      "execution_count": 39,
      "outputs": [
        {
          "output_type": "execute_result",
          "data": {
            "text/plain": [
              "        Date  Predicted_Close\n",
              "0 2025-01-01       860.925110\n",
              "1 2025-01-02       843.610596\n",
              "2 2025-01-03       826.178589\n",
              "3 2025-01-04       810.336182\n",
              "4 2025-01-05       796.424316\n",
              "5 2025-01-06       784.210144\n",
              "6 2025-01-07       773.303772"
            ],
            "text/html": [
              "\n",
              "  <div id=\"df-4752f5db-aa6c-4b36-b7d6-eb038af3bc79\" class=\"colab-df-container\">\n",
              "    <div>\n",
              "<style scoped>\n",
              "    .dataframe tbody tr th:only-of-type {\n",
              "        vertical-align: middle;\n",
              "    }\n",
              "\n",
              "    .dataframe tbody tr th {\n",
              "        vertical-align: top;\n",
              "    }\n",
              "\n",
              "    .dataframe thead th {\n",
              "        text-align: right;\n",
              "    }\n",
              "</style>\n",
              "<table border=\"1\" class=\"dataframe\">\n",
              "  <thead>\n",
              "    <tr style=\"text-align: right;\">\n",
              "      <th></th>\n",
              "      <th>Date</th>\n",
              "      <th>Predicted_Close</th>\n",
              "    </tr>\n",
              "  </thead>\n",
              "  <tbody>\n",
              "    <tr>\n",
              "      <th>0</th>\n",
              "      <td>2025-01-01</td>\n",
              "      <td>860.925110</td>\n",
              "    </tr>\n",
              "    <tr>\n",
              "      <th>1</th>\n",
              "      <td>2025-01-02</td>\n",
              "      <td>843.610596</td>\n",
              "    </tr>\n",
              "    <tr>\n",
              "      <th>2</th>\n",
              "      <td>2025-01-03</td>\n",
              "      <td>826.178589</td>\n",
              "    </tr>\n",
              "    <tr>\n",
              "      <th>3</th>\n",
              "      <td>2025-01-04</td>\n",
              "      <td>810.336182</td>\n",
              "    </tr>\n",
              "    <tr>\n",
              "      <th>4</th>\n",
              "      <td>2025-01-05</td>\n",
              "      <td>796.424316</td>\n",
              "    </tr>\n",
              "    <tr>\n",
              "      <th>5</th>\n",
              "      <td>2025-01-06</td>\n",
              "      <td>784.210144</td>\n",
              "    </tr>\n",
              "    <tr>\n",
              "      <th>6</th>\n",
              "      <td>2025-01-07</td>\n",
              "      <td>773.303772</td>\n",
              "    </tr>\n",
              "  </tbody>\n",
              "</table>\n",
              "</div>\n",
              "    <div class=\"colab-df-buttons\">\n",
              "\n",
              "  <div class=\"colab-df-container\">\n",
              "    <button class=\"colab-df-convert\" onclick=\"convertToInteractive('df-4752f5db-aa6c-4b36-b7d6-eb038af3bc79')\"\n",
              "            title=\"Convert this dataframe to an interactive table.\"\n",
              "            style=\"display:none;\">\n",
              "\n",
              "  <svg xmlns=\"http://www.w3.org/2000/svg\" height=\"24px\" viewBox=\"0 -960 960 960\">\n",
              "    <path d=\"M120-120v-720h720v720H120Zm60-500h600v-160H180v160Zm220 220h160v-160H400v160Zm0 220h160v-160H400v160ZM180-400h160v-160H180v160Zm440 0h160v-160H620v160ZM180-180h160v-160H180v160Zm440 0h160v-160H620v160Z\"/>\n",
              "  </svg>\n",
              "    </button>\n",
              "\n",
              "  <style>\n",
              "    .colab-df-container {\n",
              "      display:flex;\n",
              "      gap: 12px;\n",
              "    }\n",
              "\n",
              "    .colab-df-convert {\n",
              "      background-color: #E8F0FE;\n",
              "      border: none;\n",
              "      border-radius: 50%;\n",
              "      cursor: pointer;\n",
              "      display: none;\n",
              "      fill: #1967D2;\n",
              "      height: 32px;\n",
              "      padding: 0 0 0 0;\n",
              "      width: 32px;\n",
              "    }\n",
              "\n",
              "    .colab-df-convert:hover {\n",
              "      background-color: #E2EBFA;\n",
              "      box-shadow: 0px 1px 2px rgba(60, 64, 67, 0.3), 0px 1px 3px 1px rgba(60, 64, 67, 0.15);\n",
              "      fill: #174EA6;\n",
              "    }\n",
              "\n",
              "    .colab-df-buttons div {\n",
              "      margin-bottom: 4px;\n",
              "    }\n",
              "\n",
              "    [theme=dark] .colab-df-convert {\n",
              "      background-color: #3B4455;\n",
              "      fill: #D2E3FC;\n",
              "    }\n",
              "\n",
              "    [theme=dark] .colab-df-convert:hover {\n",
              "      background-color: #434B5C;\n",
              "      box-shadow: 0px 1px 3px 1px rgba(0, 0, 0, 0.15);\n",
              "      filter: drop-shadow(0px 1px 2px rgba(0, 0, 0, 0.3));\n",
              "      fill: #FFFFFF;\n",
              "    }\n",
              "  </style>\n",
              "\n",
              "    <script>\n",
              "      const buttonEl =\n",
              "        document.querySelector('#df-4752f5db-aa6c-4b36-b7d6-eb038af3bc79 button.colab-df-convert');\n",
              "      buttonEl.style.display =\n",
              "        google.colab.kernel.accessAllowed ? 'block' : 'none';\n",
              "\n",
              "      async function convertToInteractive(key) {\n",
              "        const element = document.querySelector('#df-4752f5db-aa6c-4b36-b7d6-eb038af3bc79');\n",
              "        const dataTable =\n",
              "          await google.colab.kernel.invokeFunction('convertToInteractive',\n",
              "                                                    [key], {});\n",
              "        if (!dataTable) return;\n",
              "\n",
              "        const docLinkHtml = 'Like what you see? Visit the ' +\n",
              "          '<a target=\"_blank\" href=https://colab.research.google.com/notebooks/data_table.ipynb>data table notebook</a>'\n",
              "          + ' to learn more about interactive tables.';\n",
              "        element.innerHTML = '';\n",
              "        dataTable['output_type'] = 'display_data';\n",
              "        await google.colab.output.renderOutput(dataTable, element);\n",
              "        const docLink = document.createElement('div');\n",
              "        docLink.innerHTML = docLinkHtml;\n",
              "        element.appendChild(docLink);\n",
              "      }\n",
              "    </script>\n",
              "  </div>\n",
              "\n",
              "\n",
              "<div id=\"df-4d87287e-9bfe-4226-b57e-c4bf5e89b808\">\n",
              "  <button class=\"colab-df-quickchart\" onclick=\"quickchart('df-4d87287e-9bfe-4226-b57e-c4bf5e89b808')\"\n",
              "            title=\"Suggest charts\"\n",
              "            style=\"display:none;\">\n",
              "\n",
              "<svg xmlns=\"http://www.w3.org/2000/svg\" height=\"24px\"viewBox=\"0 0 24 24\"\n",
              "     width=\"24px\">\n",
              "    <g>\n",
              "        <path d=\"M19 3H5c-1.1 0-2 .9-2 2v14c0 1.1.9 2 2 2h14c1.1 0 2-.9 2-2V5c0-1.1-.9-2-2-2zM9 17H7v-7h2v7zm4 0h-2V7h2v10zm4 0h-2v-4h2v4z\"/>\n",
              "    </g>\n",
              "</svg>\n",
              "  </button>\n",
              "\n",
              "<style>\n",
              "  .colab-df-quickchart {\n",
              "      --bg-color: #E8F0FE;\n",
              "      --fill-color: #1967D2;\n",
              "      --hover-bg-color: #E2EBFA;\n",
              "      --hover-fill-color: #174EA6;\n",
              "      --disabled-fill-color: #AAA;\n",
              "      --disabled-bg-color: #DDD;\n",
              "  }\n",
              "\n",
              "  [theme=dark] .colab-df-quickchart {\n",
              "      --bg-color: #3B4455;\n",
              "      --fill-color: #D2E3FC;\n",
              "      --hover-bg-color: #434B5C;\n",
              "      --hover-fill-color: #FFFFFF;\n",
              "      --disabled-bg-color: #3B4455;\n",
              "      --disabled-fill-color: #666;\n",
              "  }\n",
              "\n",
              "  .colab-df-quickchart {\n",
              "    background-color: var(--bg-color);\n",
              "    border: none;\n",
              "    border-radius: 50%;\n",
              "    cursor: pointer;\n",
              "    display: none;\n",
              "    fill: var(--fill-color);\n",
              "    height: 32px;\n",
              "    padding: 0;\n",
              "    width: 32px;\n",
              "  }\n",
              "\n",
              "  .colab-df-quickchart:hover {\n",
              "    background-color: var(--hover-bg-color);\n",
              "    box-shadow: 0 1px 2px rgba(60, 64, 67, 0.3), 0 1px 3px 1px rgba(60, 64, 67, 0.15);\n",
              "    fill: var(--button-hover-fill-color);\n",
              "  }\n",
              "\n",
              "  .colab-df-quickchart-complete:disabled,\n",
              "  .colab-df-quickchart-complete:disabled:hover {\n",
              "    background-color: var(--disabled-bg-color);\n",
              "    fill: var(--disabled-fill-color);\n",
              "    box-shadow: none;\n",
              "  }\n",
              "\n",
              "  .colab-df-spinner {\n",
              "    border: 2px solid var(--fill-color);\n",
              "    border-color: transparent;\n",
              "    border-bottom-color: var(--fill-color);\n",
              "    animation:\n",
              "      spin 1s steps(1) infinite;\n",
              "  }\n",
              "\n",
              "  @keyframes spin {\n",
              "    0% {\n",
              "      border-color: transparent;\n",
              "      border-bottom-color: var(--fill-color);\n",
              "      border-left-color: var(--fill-color);\n",
              "    }\n",
              "    20% {\n",
              "      border-color: transparent;\n",
              "      border-left-color: var(--fill-color);\n",
              "      border-top-color: var(--fill-color);\n",
              "    }\n",
              "    30% {\n",
              "      border-color: transparent;\n",
              "      border-left-color: var(--fill-color);\n",
              "      border-top-color: var(--fill-color);\n",
              "      border-right-color: var(--fill-color);\n",
              "    }\n",
              "    40% {\n",
              "      border-color: transparent;\n",
              "      border-right-color: var(--fill-color);\n",
              "      border-top-color: var(--fill-color);\n",
              "    }\n",
              "    60% {\n",
              "      border-color: transparent;\n",
              "      border-right-color: var(--fill-color);\n",
              "    }\n",
              "    80% {\n",
              "      border-color: transparent;\n",
              "      border-right-color: var(--fill-color);\n",
              "      border-bottom-color: var(--fill-color);\n",
              "    }\n",
              "    90% {\n",
              "      border-color: transparent;\n",
              "      border-bottom-color: var(--fill-color);\n",
              "    }\n",
              "  }\n",
              "</style>\n",
              "\n",
              "  <script>\n",
              "    async function quickchart(key) {\n",
              "      const quickchartButtonEl =\n",
              "        document.querySelector('#' + key + ' button');\n",
              "      quickchartButtonEl.disabled = true;  // To prevent multiple clicks.\n",
              "      quickchartButtonEl.classList.add('colab-df-spinner');\n",
              "      try {\n",
              "        const charts = await google.colab.kernel.invokeFunction(\n",
              "            'suggestCharts', [key], {});\n",
              "      } catch (error) {\n",
              "        console.error('Error during call to suggestCharts:', error);\n",
              "      }\n",
              "      quickchartButtonEl.classList.remove('colab-df-spinner');\n",
              "      quickchartButtonEl.classList.add('colab-df-quickchart-complete');\n",
              "    }\n",
              "    (() => {\n",
              "      let quickchartButtonEl =\n",
              "        document.querySelector('#df-4d87287e-9bfe-4226-b57e-c4bf5e89b808 button');\n",
              "      quickchartButtonEl.style.display =\n",
              "        google.colab.kernel.accessAllowed ? 'block' : 'none';\n",
              "    })();\n",
              "  </script>\n",
              "</div>\n",
              "\n",
              "  <div id=\"id_93d41438-23c9-428b-82f9-3ce949cee933\">\n",
              "    <style>\n",
              "      .colab-df-generate {\n",
              "        background-color: #E8F0FE;\n",
              "        border: none;\n",
              "        border-radius: 50%;\n",
              "        cursor: pointer;\n",
              "        display: none;\n",
              "        fill: #1967D2;\n",
              "        height: 32px;\n",
              "        padding: 0 0 0 0;\n",
              "        width: 32px;\n",
              "      }\n",
              "\n",
              "      .colab-df-generate:hover {\n",
              "        background-color: #E2EBFA;\n",
              "        box-shadow: 0px 1px 2px rgba(60, 64, 67, 0.3), 0px 1px 3px 1px rgba(60, 64, 67, 0.15);\n",
              "        fill: #174EA6;\n",
              "      }\n",
              "\n",
              "      [theme=dark] .colab-df-generate {\n",
              "        background-color: #3B4455;\n",
              "        fill: #D2E3FC;\n",
              "      }\n",
              "\n",
              "      [theme=dark] .colab-df-generate:hover {\n",
              "        background-color: #434B5C;\n",
              "        box-shadow: 0px 1px 3px 1px rgba(0, 0, 0, 0.15);\n",
              "        filter: drop-shadow(0px 1px 2px rgba(0, 0, 0, 0.3));\n",
              "        fill: #FFFFFF;\n",
              "      }\n",
              "    </style>\n",
              "    <button class=\"colab-df-generate\" onclick=\"generateWithVariable('df_future')\"\n",
              "            title=\"Generate code using this dataframe.\"\n",
              "            style=\"display:none;\">\n",
              "\n",
              "  <svg xmlns=\"http://www.w3.org/2000/svg\" height=\"24px\"viewBox=\"0 0 24 24\"\n",
              "       width=\"24px\">\n",
              "    <path d=\"M7,19H8.4L18.45,9,17,7.55,7,17.6ZM5,21V16.75L18.45,3.32a2,2,0,0,1,2.83,0l1.4,1.43a1.91,1.91,0,0,1,.58,1.4,1.91,1.91,0,0,1-.58,1.4L9.25,21ZM18.45,9,17,7.55Zm-12,3A5.31,5.31,0,0,0,4.9,8.1,5.31,5.31,0,0,0,1,6.5,5.31,5.31,0,0,0,4.9,4.9,5.31,5.31,0,0,0,6.5,1,5.31,5.31,0,0,0,8.1,4.9,5.31,5.31,0,0,0,12,6.5,5.46,5.46,0,0,0,6.5,12Z\"/>\n",
              "  </svg>\n",
              "    </button>\n",
              "    <script>\n",
              "      (() => {\n",
              "      const buttonEl =\n",
              "        document.querySelector('#id_93d41438-23c9-428b-82f9-3ce949cee933 button.colab-df-generate');\n",
              "      buttonEl.style.display =\n",
              "        google.colab.kernel.accessAllowed ? 'block' : 'none';\n",
              "\n",
              "      buttonEl.onclick = () => {\n",
              "        google.colab.notebook.generateWithVariable('df_future');\n",
              "      }\n",
              "      })();\n",
              "    </script>\n",
              "  </div>\n",
              "\n",
              "    </div>\n",
              "  </div>\n"
            ],
            "application/vnd.google.colaboratory.intrinsic+json": {
              "type": "dataframe",
              "variable_name": "df_future",
              "summary": "{\n  \"name\": \"df_future\",\n  \"rows\": 7,\n  \"fields\": [\n    {\n      \"column\": \"Date\",\n      \"properties\": {\n        \"dtype\": \"date\",\n        \"min\": \"2025-01-01 00:00:00\",\n        \"max\": \"2025-01-07 00:00:00\",\n        \"num_unique_values\": 7,\n        \"samples\": [\n          \"2025-01-01 00:00:00\",\n          \"2025-01-02 00:00:00\",\n          \"2025-01-06 00:00:00\"\n        ],\n        \"semantic_type\": \"\",\n        \"description\": \"\"\n      }\n    },\n    {\n      \"column\": \"Predicted_Close\",\n      \"properties\": {\n        \"dtype\": \"float32\",\n        \"num_unique_values\": 7,\n        \"samples\": [\n          860.9251098632812,\n          843.610595703125,\n          784.2101440429688\n        ],\n        \"semantic_type\": \"\",\n        \"description\": \"\"\n      }\n    }\n  ]\n}"
            }
          },
          "metadata": {},
          "execution_count": 39
        }
      ]
    },
    {
      "cell_type": "markdown",
      "source": [
        "#Matrix evaluation"
      ],
      "metadata": {
        "id": "Vk2rFEno-em6"
      }
    },
    {
      "cell_type": "code",
      "source": [
        "from sklearn.metrics import mean_absolute_error, mean_squared_error\n",
        "\n",
        "# Ambil data aktual untuk 7 hari ke depan jika tersedia\n",
        "actual_future_values = df['Close'].iloc[-7:].values\n",
        "\n",
        "# Hitung metrik evaluasi\n",
        "mae = mean_absolute_error(actual_future_values, future_predictions)\n",
        "mse = mean_squared_error(actual_future_values, future_predictions)\n",
        "rmse = np.sqrt(mean_squared_error(actual_future_values, future_predictions))\n",
        "mape = np.mean(np.abs((actual_future_values - future_predictions.flatten()) / actual_future_values)) * 100\n",
        "\n",
        "# Tampilkan hasil evaluasi\n",
        "print(f\"Mean Absolute Error (MAE): {mae:.2f}\")\n",
        "print(f\"Mean Squared Error (MSE): {mse:.2f}\")\n",
        "print(f\"Root Mean Squared Error (RMSE): {rmse:.2f}\")\n",
        "print(f\"Mean Absolute Percentage Error (MAPE): {mape:.2f}%\")\n"
      ],
      "metadata": {
        "colab": {
          "base_uri": "https://localhost:8080/"
        },
        "id": "sxSlQoOFyL9N",
        "outputId": "50191397-2bfb-4c4d-b0e9-8c55a6371263"
      },
      "execution_count": 43,
      "outputs": [
        {
          "output_type": "stream",
          "name": "stdout",
          "text": [
            "Mean Absolute Error (MAE): 97.30\n",
            "Mean Squared Error (MSE): 10125.27\n",
            "Root Mean Squared Error (RMSE): 100.62\n",
            "Mean Absolute Percentage Error (MAPE): 10.66%\n"
          ]
        }
      ]
    }
  ]
}